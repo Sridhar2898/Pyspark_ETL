{
 "cells": [
  {
   "cell_type": "code",
   "execution_count": 1,
   "id": "96c3ae87",
   "metadata": {},
   "outputs": [],
   "source": [
    "from pyspark.sql import SparkSession"
   ]
  },
  {
   "cell_type": "code",
   "execution_count": 3,
   "id": "c85871be",
   "metadata": {},
   "outputs": [],
   "source": [
    "ss = SparkSession.builder.getOrCreate()"
   ]
  },
  {
   "cell_type": "code",
   "execution_count": 4,
   "id": "e1a76fb0",
   "metadata": {},
   "outputs": [
    {
     "data": {
      "text/html": [
       "\n",
       "            <div>\n",
       "                <p><b>SparkSession - in-memory</b></p>\n",
       "                \n",
       "        <div>\n",
       "            <p><b>SparkContext</b></p>\n",
       "\n",
       "            <p><a href=\"http://Sridhar:4043\">Spark UI</a></p>\n",
       "\n",
       "            <dl>\n",
       "              <dt>Version</dt>\n",
       "                <dd><code>v3.5.2</code></dd>\n",
       "              <dt>Master</dt>\n",
       "                <dd><code>local[*]</code></dd>\n",
       "              <dt>AppName</dt>\n",
       "                <dd><code>pyspark-shell</code></dd>\n",
       "            </dl>\n",
       "        </div>\n",
       "        \n",
       "            </div>\n",
       "        "
      ],
      "text/plain": [
       "<pyspark.sql.session.SparkSession at 0x2413f8caa00>"
      ]
     },
     "execution_count": 4,
     "metadata": {},
     "output_type": "execute_result"
    }
   ],
   "source": [
    "ss"
   ]
  },
  {
   "cell_type": "code",
   "execution_count": 37,
   "id": "92b38aaf",
   "metadata": {},
   "outputs": [],
   "source": [
    "df = ss.read.options(delimiter=',', header=True).csv(\"AdvWorksData.csv\", header=True)"
   ]
  },
  {
   "cell_type": "code",
   "execution_count": 38,
   "id": "f8d55b53",
   "metadata": {},
   "outputs": [
    {
     "name": "stdout",
     "output_type": "stream",
     "text": [
      "+---------------+------------------+------------+--------------+--------------+-----+-------+----------+-----------+----------+---------+------------+---------+-----------------+--------+---------+-----------------+----------+-------------+---------+\n",
      "|productcategory|productsubcategory|     product| saleterritory|       Country| City|   Sate|  Customer|   Employee|OrderCount|OrderDate|StandardCost|UnitPrice|UnitPriceDiscount|Discount|ListPrice|SaleswithStandard|  NetSales|OrderQuantity|    Sales|\n",
      "+---------------+------------------+------------+--------------+--------------+-----+-------+----------+-----------+----------+---------+------------+---------+-----------------+--------+---------+-----------------+----------+-------------+---------+\n",
      "|       Clothing|              Caps|AWC Logo Cap|United Kingdom|United Kingdom|Berks|England|Gary Suess|Amy Alberts|         1|  00:00.0|      6.9223|   5.0136|             0.02|  1.4038|   8.6442|          96.9122|-28.125608|           14|68.786592|\n",
      "+---------------+------------------+------------+--------------+--------------+-----+-------+----------+-----------+----------+---------+------------+---------+-----------------+--------+---------+-----------------+----------+-------------+---------+\n",
      "only showing top 1 row\n",
      "\n"
     ]
    }
   ],
   "source": [
    "df.show(1)"
   ]
  },
  {
   "cell_type": "code",
   "execution_count": 39,
   "id": "24bf66ea",
   "metadata": {},
   "outputs": [
    {
     "data": {
      "text/plain": [
       "pyspark.sql.dataframe.DataFrame"
      ]
     },
     "execution_count": 39,
     "metadata": {},
     "output_type": "execute_result"
    }
   ],
   "source": [
    "type(df)"
   ]
  },
  {
   "cell_type": "code",
   "execution_count": 40,
   "id": "6ef28e8d",
   "metadata": {},
   "outputs": [
    {
     "name": "stdout",
     "output_type": "stream",
     "text": [
      "root\n",
      " |-- productcategory: string (nullable = true)\n",
      " |-- productsubcategory: string (nullable = true)\n",
      " |-- product: string (nullable = true)\n",
      " |-- saleterritory: string (nullable = true)\n",
      " |-- Country: string (nullable = true)\n",
      " |-- City: string (nullable = true)\n",
      " |-- Sate: string (nullable = true)\n",
      " |-- Customer: string (nullable = true)\n",
      " |-- Employee: string (nullable = true)\n",
      " |-- OrderCount: string (nullable = true)\n",
      " |-- OrderDate: string (nullable = true)\n",
      " |-- StandardCost: string (nullable = true)\n",
      " |-- UnitPrice: string (nullable = true)\n",
      " |-- UnitPriceDiscount: string (nullable = true)\n",
      " |-- Discount: string (nullable = true)\n",
      " |-- ListPrice: string (nullable = true)\n",
      " |-- SaleswithStandard: string (nullable = true)\n",
      " |-- NetSales: string (nullable = true)\n",
      " |-- OrderQuantity: string (nullable = true)\n",
      " |-- Sales: string (nullable = true)\n",
      "\n"
     ]
    }
   ],
   "source": [
    "df.printSchema()"
   ]
  },
  {
   "cell_type": "code",
   "execution_count": 41,
   "id": "3f1a190b",
   "metadata": {
    "scrolled": true
   },
   "outputs": [
    {
     "data": {
      "text/plain": [
       "['productcategory',\n",
       " 'productsubcategory',\n",
       " 'product',\n",
       " 'saleterritory',\n",
       " 'Country',\n",
       " 'City',\n",
       " 'Sate',\n",
       " 'Customer',\n",
       " 'Employee',\n",
       " 'OrderCount',\n",
       " 'OrderDate',\n",
       " 'StandardCost',\n",
       " 'UnitPrice',\n",
       " 'UnitPriceDiscount',\n",
       " 'Discount',\n",
       " 'ListPrice',\n",
       " 'SaleswithStandard',\n",
       " 'NetSales',\n",
       " 'OrderQuantity',\n",
       " 'Sales']"
      ]
     },
     "execution_count": 41,
     "metadata": {},
     "output_type": "execute_result"
    }
   ],
   "source": [
    "df.columns"
   ]
  },
  {
   "cell_type": "code",
   "execution_count": 47,
   "id": "e9f94f68",
   "metadata": {},
   "outputs": [
    {
     "name": "stdout",
     "output_type": "stream",
     "text": [
      "+---------------+------------------+--------------------+--------------+--------------+------+-------+---------------+-----------+----------+---------+------------+---------+-----------------+--------+---------+-----------------+---------+-------------+---------+\n",
      "|productcategory|productsubcategory|             product| saleterritory|       Country|  City|   Sate|       Customer|   Employee|OrderCount|OrderDate|StandardCost|UnitPrice|UnitPriceDiscount|Discount|ListPrice|SaleswithStandard| NetSales|OrderQuantity|    Sales|\n",
      "+---------------+------------------+--------------------+--------------+--------------+------+-------+---------------+-----------+----------+---------+------------+---------+-----------------+--------+---------+-----------------+---------+-------------+---------+\n",
      "|       Clothing|            Gloves|Full-Finger Glove...|United Kingdom|United Kingdom|London|England|   Linda Martin|Amy Alberts|         1|  00:00.0|     15.6709|  20.8945|             0.05| 16.7156|    37.99|         250.7344|   66.862|           16| 317.5964|\n",
      "|       Clothing|            Gloves|Full-Finger Glove...|United Kingdom|United Kingdom|London|England|   Linda Martin|Amy Alberts|         1|  00:00.0|     15.6709|   22.794|                0|       0|    37.99|          31.3418|  14.2462|            2|   45.588|\n",
      "|       Clothing|            Gloves|Full-Finger Glove...|United Kingdom|United Kingdom|London|England|   Linda Martin|Amy Alberts|         1|  00:00.0|     15.6709|   22.794|                0|       0|    37.99|          15.6709|   7.1231|            1|   22.794|\n",
      "|     Components|            Wheels|HL Mountain Rear ...|United Kingdom|United Kingdom|London|England|   Linda Martin|Amy Alberts|         1|  00:00.0|    145.2835|  196.329|                0|       0|  327.215|          581.134|  204.182|            4|  785.316|\n",
      "|     Components|            Wheels|LL Mountain Front...|United Kingdom|United Kingdom|London|England|   Linda Martin|Amy Alberts|         1|  00:00.0|     26.9708|   36.447|                0|       0|   60.745|          26.9708|   9.4762|            1|   36.447|\n",
      "|     Components|            Wheels|LL Mountain Rear ...|United Kingdom|United Kingdom|London|England|   Linda Martin|Amy Alberts|         1|  00:00.0|     38.9588|   52.647|                0|       0|   87.745|          77.9176|  27.3764|            2|  105.294|\n",
      "|     Components|   Mountain Frames|ML Mountain Frame...|United Kingdom|United Kingdom|London|England|   Linda Martin|Amy Alberts|         1|  00:00.0|    185.8193|  209.256|                0|       0|   348.76|         557.4579|  70.3101|            3|  627.768|\n",
      "|     Components|        Handlebars|ML Mountain Handl...|United Kingdom|United Kingdom|London|England|   Linda Martin|Amy Alberts|         1|  00:00.0|     27.4925|  33.7745|                0|       0|  56.2909|          27.4925|    6.282|            1|  33.7745|\n",
      "|          Bikes|    Mountain Bikes|Mountain-200 Blac...|United Kingdom|United Kingdom|London|England|   Linda Martin|Amy Alberts|         1|  00:00.0|   1251.9813|1229.4589|                0|       0|2049.0982|        3755.9439| -67.5672|            3|3688.3767|\n",
      "|          Bikes|    Mountain Bikes|Mountain-200 Blac...|United Kingdom|United Kingdom|London|England|   Linda Martin|Amy Alberts|         1|  00:00.0|   1251.9813|1229.4589|                0|       0|2049.0982|        7511.8878|-135.1344|            6|7376.7534|\n",
      "|          Bikes|    Mountain Bikes|Mountain-200 Silv...|United Kingdom|United Kingdom|London|England|   Linda Martin|Amy Alberts|         1|  00:00.0|   1265.6195|1242.8518|                0|       0|2071.4196|         2531.239| -45.5354|            2|2485.7036|\n",
      "|          Bikes|    Mountain Bikes|Mountain-200 Silv...|United Kingdom|United Kingdom|London|England|   Linda Martin|Amy Alberts|         1|  00:00.0|   1265.6195|1242.8518|                0|       0|2071.4196|         2531.239| -45.5354|            2|2485.7036|\n",
      "|          Bikes|    Mountain Bikes|Mountain-200 Silv...|United Kingdom|United Kingdom|London|England|   Linda Martin|Amy Alberts|         1|  00:00.0|   1265.6195|1242.8518|                0|       0|2071.4196|         2531.239| -45.5354|            2|2485.7036|\n",
      "|       Clothing|              Caps|        AWC Logo Cap|United Kingdom|United Kingdom|London|England|Stefano Stefani|Amy Alberts|         1|  00:00.0|      6.9223|   5.1865|                0|       0|   8.6442|          13.8446|  -3.4716|            2|   10.373|\n",
      "|     Components|            Wheels|  LL Road Rear Wheel|United Kingdom|United Kingdom|London|England|Stefano Stefani|Amy Alberts|         1|  00:00.0|     49.9789|   67.539|                0|       0|  112.565|          49.9789|  17.5601|            1|   67.539|\n",
      "|       Clothing|           Jerseys|Long-Sleeve Logo ...|United Kingdom|United Kingdom|London|England|Stefano Stefani|Amy Alberts|         1|  00:00.0|     38.4923|  28.8404|                0|       0|  48.0673|          76.9846| -19.3038|            2|  57.6808|\n",
      "|     Components|       Road Frames|ML Road Frame-W -...|United Kingdom|United Kingdom|London|England|Stefano Stefani|Amy Alberts|         1|  00:00.0|    360.9428| 324.4527|                0|       0| 540.7545|         360.9428| -36.4901|            1| 324.4527|\n",
      "|          Bikes|        Road Bikes|  Road-650 Black, 52|United Kingdom|United Kingdom|London|England|Stefano Stefani|Amy Alberts|         1|  00:00.0|    486.7066|  469.794|                0|       0|   782.99|         486.7066| -16.9126|            1|  469.794|\n",
      "|          Bikes|        Road Bikes|  Road-650 Black, 58|United Kingdom|United Kingdom|London|England|Stefano Stefani|Amy Alberts|         1|  00:00.0|    486.7066|  469.794|                0|       0|   782.99|         486.7066| -16.9126|            1|  469.794|\n",
      "|          Bikes|        Road Bikes|    Road-650 Red, 44|United Kingdom|United Kingdom|London|England|Stefano Stefani|Amy Alberts|         1|  00:00.0|    486.7066|  469.794|                0|       0|   782.99|         486.7066| -16.9126|            1|  469.794|\n",
      "+---------------+------------------+--------------------+--------------+--------------+------+-------+---------------+-----------+----------+---------+------------+---------+-----------------+--------+---------+-----------------+---------+-------------+---------+\n",
      "only showing top 20 rows\n",
      "\n"
     ]
    }
   ],
   "source": [
    "data.filter(data.City == \"London\").show()"
   ]
  },
  {
   "cell_type": "code",
   "execution_count": 48,
   "id": "9d7ee7e9",
   "metadata": {},
   "outputs": [
    {
     "name": "stdout",
     "output_type": "stream",
     "text": [
      "+---------------+------------------+------------+--------------+--------------+-----+-------+----------+-----------+----------+---------+------------+---------+-----------------+--------+---------+-----------------+----------+-------------+---------+\n",
      "|productcategory|productsubcategory|     product| saleterritory|       Country| City|   Sate|  Customer|   Employee|OrderCount|OrderDate|StandardCost|UnitPrice|UnitPriceDiscount|Discount|ListPrice|SaleswithStandard|  NetSales|OrderQuantity|    Sales|\n",
      "+---------------+------------------+------------+--------------+--------------+-----+-------+----------+-----------+----------+---------+------------+---------+-----------------+--------+---------+-----------------+----------+-------------+---------+\n",
      "|       Clothing|              Caps|AWC Logo Cap|United Kingdom|United Kingdom|Berks|England|Gary Suess|Amy Alberts|         1|  00:00.0|      6.9223|   5.0136|             0.02|  1.4038|   8.6442|          96.9122|-28.125608|           14|68.786592|\n",
      "|    Accessories|             Locks|  Cable Lock|United Kingdom|United Kingdom|Berks|England|Gary Suess|Amy Alberts|         1|  00:00.0|     10.3125|       15|                0|       0|       25|           61.875|    28.125|            6|       90|\n",
      "+---------------+------------------+------------+--------------+--------------+-----+-------+----------+-----------+----------+---------+------------+---------+-----------------+--------+---------+-----------------+----------+-------------+---------+\n",
      "only showing top 2 rows\n",
      "\n"
     ]
    }
   ],
   "source": [
    "df.show(2)"
   ]
  },
  {
   "cell_type": "code",
   "execution_count": 49,
   "id": "1ad1c607",
   "metadata": {},
   "outputs": [
    {
     "name": "stdout",
     "output_type": "stream",
     "text": [
      "+---------------+------------------+--------------------+--------------+--------------+------+-------+---------------+-----------+----------+---------+------------+---------+-----------------+--------+---------+-----------------+---------+-------------+---------+\n",
      "|productcategory|productsubcategory|             product| saleterritory|       Country|  City|   Sate|       Customer|   Employee|OrderCount|OrderDate|StandardCost|UnitPrice|UnitPriceDiscount|Discount|ListPrice|SaleswithStandard| NetSales|OrderQuantity|    Sales|\n",
      "+---------------+------------------+--------------------+--------------+--------------+------+-------+---------------+-----------+----------+---------+------------+---------+-----------------+--------+---------+-----------------+---------+-------------+---------+\n",
      "|       Clothing|            Gloves|Full-Finger Glove...|United Kingdom|United Kingdom|London|England|   Linda Martin|Amy Alberts|         1|  00:00.0|     15.6709|  20.8945|             0.05| 16.7156|    37.99|         250.7344|   66.862|           16| 317.5964|\n",
      "|       Clothing|            Gloves|Full-Finger Glove...|United Kingdom|United Kingdom|London|England|   Linda Martin|Amy Alberts|         1|  00:00.0|     15.6709|   22.794|                0|       0|    37.99|          31.3418|  14.2462|            2|   45.588|\n",
      "|       Clothing|            Gloves|Full-Finger Glove...|United Kingdom|United Kingdom|London|England|   Linda Martin|Amy Alberts|         1|  00:00.0|     15.6709|   22.794|                0|       0|    37.99|          15.6709|   7.1231|            1|   22.794|\n",
      "|     Components|            Wheels|HL Mountain Rear ...|United Kingdom|United Kingdom|London|England|   Linda Martin|Amy Alberts|         1|  00:00.0|    145.2835|  196.329|                0|       0|  327.215|          581.134|  204.182|            4|  785.316|\n",
      "|     Components|            Wheels|LL Mountain Front...|United Kingdom|United Kingdom|London|England|   Linda Martin|Amy Alberts|         1|  00:00.0|     26.9708|   36.447|                0|       0|   60.745|          26.9708|   9.4762|            1|   36.447|\n",
      "|     Components|            Wheels|LL Mountain Rear ...|United Kingdom|United Kingdom|London|England|   Linda Martin|Amy Alberts|         1|  00:00.0|     38.9588|   52.647|                0|       0|   87.745|          77.9176|  27.3764|            2|  105.294|\n",
      "|     Components|   Mountain Frames|ML Mountain Frame...|United Kingdom|United Kingdom|London|England|   Linda Martin|Amy Alberts|         1|  00:00.0|    185.8193|  209.256|                0|       0|   348.76|         557.4579|  70.3101|            3|  627.768|\n",
      "|     Components|        Handlebars|ML Mountain Handl...|United Kingdom|United Kingdom|London|England|   Linda Martin|Amy Alberts|         1|  00:00.0|     27.4925|  33.7745|                0|       0|  56.2909|          27.4925|    6.282|            1|  33.7745|\n",
      "|          Bikes|    Mountain Bikes|Mountain-200 Blac...|United Kingdom|United Kingdom|London|England|   Linda Martin|Amy Alberts|         1|  00:00.0|   1251.9813|1229.4589|                0|       0|2049.0982|        3755.9439| -67.5672|            3|3688.3767|\n",
      "|          Bikes|    Mountain Bikes|Mountain-200 Blac...|United Kingdom|United Kingdom|London|England|   Linda Martin|Amy Alberts|         1|  00:00.0|   1251.9813|1229.4589|                0|       0|2049.0982|        7511.8878|-135.1344|            6|7376.7534|\n",
      "|          Bikes|    Mountain Bikes|Mountain-200 Silv...|United Kingdom|United Kingdom|London|England|   Linda Martin|Amy Alberts|         1|  00:00.0|   1265.6195|1242.8518|                0|       0|2071.4196|         2531.239| -45.5354|            2|2485.7036|\n",
      "|          Bikes|    Mountain Bikes|Mountain-200 Silv...|United Kingdom|United Kingdom|London|England|   Linda Martin|Amy Alberts|         1|  00:00.0|   1265.6195|1242.8518|                0|       0|2071.4196|         2531.239| -45.5354|            2|2485.7036|\n",
      "|          Bikes|    Mountain Bikes|Mountain-200 Silv...|United Kingdom|United Kingdom|London|England|   Linda Martin|Amy Alberts|         1|  00:00.0|   1265.6195|1242.8518|                0|       0|2071.4196|         2531.239| -45.5354|            2|2485.7036|\n",
      "|       Clothing|              Caps|        AWC Logo Cap|United Kingdom|United Kingdom|London|England|Stefano Stefani|Amy Alberts|         1|  00:00.0|      6.9223|   5.1865|                0|       0|   8.6442|          13.8446|  -3.4716|            2|   10.373|\n",
      "|     Components|            Wheels|  LL Road Rear Wheel|United Kingdom|United Kingdom|London|England|Stefano Stefani|Amy Alberts|         1|  00:00.0|     49.9789|   67.539|                0|       0|  112.565|          49.9789|  17.5601|            1|   67.539|\n",
      "|       Clothing|           Jerseys|Long-Sleeve Logo ...|United Kingdom|United Kingdom|London|England|Stefano Stefani|Amy Alberts|         1|  00:00.0|     38.4923|  28.8404|                0|       0|  48.0673|          76.9846| -19.3038|            2|  57.6808|\n",
      "|     Components|       Road Frames|ML Road Frame-W -...|United Kingdom|United Kingdom|London|England|Stefano Stefani|Amy Alberts|         1|  00:00.0|    360.9428| 324.4527|                0|       0| 540.7545|         360.9428| -36.4901|            1| 324.4527|\n",
      "|          Bikes|        Road Bikes|  Road-650 Black, 52|United Kingdom|United Kingdom|London|England|Stefano Stefani|Amy Alberts|         1|  00:00.0|    486.7066|  469.794|                0|       0|   782.99|         486.7066| -16.9126|            1|  469.794|\n",
      "|          Bikes|        Road Bikes|  Road-650 Black, 58|United Kingdom|United Kingdom|London|England|Stefano Stefani|Amy Alberts|         1|  00:00.0|    486.7066|  469.794|                0|       0|   782.99|         486.7066| -16.9126|            1|  469.794|\n",
      "|          Bikes|        Road Bikes|    Road-650 Red, 44|United Kingdom|United Kingdom|London|England|Stefano Stefani|Amy Alberts|         1|  00:00.0|    486.7066|  469.794|                0|       0|   782.99|         486.7066| -16.9126|            1|  469.794|\n",
      "+---------------+------------------+--------------------+--------------+--------------+------+-------+---------------+-----------+----------+---------+------------+---------+-----------------+--------+---------+-----------------+---------+-------------+---------+\n",
      "only showing top 20 rows\n",
      "\n"
     ]
    }
   ],
   "source": [
    "df.filter(df['City']=='London').show()"
   ]
  },
  {
   "cell_type": "code",
   "execution_count": 50,
   "id": "045909eb",
   "metadata": {},
   "outputs": [
    {
     "data": {
      "text/plain": [
       "['productcategory',\n",
       " 'productsubcategory',\n",
       " 'product',\n",
       " 'saleterritory',\n",
       " 'Country',\n",
       " 'City',\n",
       " 'Sate',\n",
       " 'Customer',\n",
       " 'Employee',\n",
       " 'OrderCount',\n",
       " 'OrderDate',\n",
       " 'StandardCost',\n",
       " 'UnitPrice',\n",
       " 'UnitPriceDiscount',\n",
       " 'Discount',\n",
       " 'ListPrice',\n",
       " 'SaleswithStandard',\n",
       " 'NetSales',\n",
       " 'OrderQuantity',\n",
       " 'Sales']"
      ]
     },
     "execution_count": 50,
     "metadata": {},
     "output_type": "execute_result"
    }
   ],
   "source": [
    "df.columns"
   ]
  },
  {
   "cell_type": "code",
   "execution_count": 59,
   "id": "c9ae1eb7",
   "metadata": {},
   "outputs": [],
   "source": [
    "df1 = df[['productcategory','saleterritory','OrderDate',\"Sales\"]]"
   ]
  },
  {
   "cell_type": "code",
   "execution_count": 60,
   "id": "b9a73fd6",
   "metadata": {},
   "outputs": [
    {
     "name": "stdout",
     "output_type": "stream",
     "text": [
      "+---------------+--------------+---------+---------+\n",
      "|productcategory| saleterritory|OrderDate|    Sales|\n",
      "+---------------+--------------+---------+---------+\n",
      "|       Clothing|United Kingdom|  00:00.0|68.786592|\n",
      "|    Accessories|United Kingdom|  00:00.0|       90|\n",
      "|       Clothing|United Kingdom|  00:00.0|  182.352|\n",
      "|       Clothing|United Kingdom|  00:00.0| 317.5964|\n",
      "|       Clothing|United Kingdom|  00:00.0|  159.558|\n",
      "|       Clothing|United Kingdom|  00:00.0|   45.588|\n",
      "|       Clothing|United Kingdom|  00:00.0|   22.794|\n",
      "|       Clothing|United Kingdom|  00:00.0|   22.794|\n",
      "|       Clothing|United Kingdom|  00:00.0|  42.3867|\n",
      "|       Clothing|United Kingdom|  00:00.0| 113.0312|\n",
      "|       Clothing|United Kingdom|  00:00.0|  42.3867|\n",
      "|     Components|United Kingdom|  00:00.0|  826.164|\n",
      "|     Components|United Kingdom|  00:00.0|  149.676|\n",
      "|     Components|United Kingdom|  00:00.0| 1472.291|\n",
      "|     Components|United Kingdom|  00:00.0| 736.1455|\n",
      "|     Components|United Kingdom|  00:00.0| 744.2727|\n",
      "|     Components|United Kingdom|  00:00.0|4465.6362|\n",
      "|     Components|United Kingdom|  00:00.0|2232.8181|\n",
      "|     Components|United Kingdom|  00:00.0|  360.258|\n",
      "|     Components|        France|  00:00.0|  65.6018|\n",
      "+---------------+--------------+---------+---------+\n",
      "only showing top 20 rows\n",
      "\n"
     ]
    }
   ],
   "source": [
    "df1.show()"
   ]
  },
  {
   "cell_type": "code",
   "execution_count": 80,
   "id": "445c0ce9",
   "metadata": {},
   "outputs": [
    {
     "name": "stdout",
     "output_type": "stream",
     "text": [
      "+---------------+--------------+---------+---------+\n",
      "|productcategory| saleterritory|OrderDate|    Sales|\n",
      "+---------------+--------------+---------+---------+\n",
      "|       Clothing|United Kingdom|  00:00.0|68.786592|\n",
      "|    Accessories|United Kingdom|  00:00.0|       90|\n",
      "|       Clothing|United Kingdom|  00:00.0|  182.352|\n",
      "|       Clothing|United Kingdom|  00:00.0| 317.5964|\n",
      "|       Clothing|United Kingdom|  00:00.0|  159.558|\n",
      "|       Clothing|United Kingdom|  00:00.0|   45.588|\n",
      "|       Clothing|United Kingdom|  00:00.0|   22.794|\n",
      "|       Clothing|United Kingdom|  00:00.0|   22.794|\n",
      "|       Clothing|United Kingdom|  00:00.0|  42.3867|\n",
      "|       Clothing|United Kingdom|  00:00.0| 113.0312|\n",
      "|       Clothing|United Kingdom|  00:00.0|  42.3867|\n",
      "|     Components|United Kingdom|  00:00.0|  826.164|\n",
      "|     Components|United Kingdom|  00:00.0|  149.676|\n",
      "|     Components|United Kingdom|  00:00.0| 1472.291|\n",
      "|     Components|United Kingdom|  00:00.0| 736.1455|\n",
      "|     Components|United Kingdom|  00:00.0| 744.2727|\n",
      "|     Components|United Kingdom|  00:00.0|4465.6362|\n",
      "|     Components|United Kingdom|  00:00.0|2232.8181|\n",
      "|     Components|United Kingdom|  00:00.0|  360.258|\n",
      "|     Components|        France|  00:00.0|  65.6018|\n",
      "+---------------+--------------+---------+---------+\n",
      "only showing top 20 rows\n",
      "\n"
     ]
    }
   ],
   "source": [
    "df1.show()"
   ]
  },
  {
   "cell_type": "code",
   "execution_count": 68,
   "id": "f1a6c34f",
   "metadata": {},
   "outputs": [
    {
     "name": "stdout",
     "output_type": "stream",
     "text": [
      "+--------------+-----+\n",
      "| saleterritory|count|\n",
      "+--------------+-----+\n",
      "|       Germany| 1864|\n",
      "|        France| 3530|\n",
      "|     Northwest| 7872|\n",
      "|     Southeast| 5937|\n",
      "|       Central| 5812|\n",
      "|        Canada|11444|\n",
      "|     Southwest|13379|\n",
      "|United Kingdom| 3520|\n",
      "|     Northeast| 5809|\n",
      "|     Australia| 1713|\n",
      "+--------------+-----+\n",
      "\n"
     ]
    }
   ],
   "source": [
    "saleterritory.show()"
   ]
  },
  {
   "cell_type": "code",
   "execution_count": 76,
   "id": "48746bbc",
   "metadata": {},
   "outputs": [],
   "source": [
    "from pyspark.sql.functions import sum "
   ]
  },
  {
   "cell_type": "code",
   "execution_count": 79,
   "id": "3116ad22",
   "metadata": {},
   "outputs": [
    {
     "ename": "AnalysisException",
     "evalue": "\"Sales\" is not a numeric column. Aggregation function can only be applied on a numeric column.",
     "output_type": "error",
     "traceback": [
      "\u001b[1;31m---------------------------------------------------------------------------\u001b[0m",
      "\u001b[1;31mAnalysisException\u001b[0m                         Traceback (most recent call last)",
      "Input \u001b[1;32mIn [79]\u001b[0m, in \u001b[0;36m<cell line: 1>\u001b[1;34m()\u001b[0m\n\u001b[1;32m----> 1\u001b[0m totalsaleTerritory \u001b[38;5;241m=\u001b[39m \u001b[43mdf1\u001b[49m\u001b[38;5;241;43m.\u001b[39;49m\u001b[43mgroupBy\u001b[49m\u001b[43m(\u001b[49m\u001b[38;5;124;43m\"\u001b[39;49m\u001b[38;5;124;43msaleterritory\u001b[39;49m\u001b[38;5;124;43m\"\u001b[39;49m\u001b[43m)\u001b[49m\u001b[38;5;241;43m.\u001b[39;49m\u001b[43msum\u001b[49m\u001b[43m(\u001b[49m\u001b[38;5;124;43m'\u001b[39;49m\u001b[38;5;124;43mSales\u001b[39;49m\u001b[38;5;124;43m'\u001b[39;49m\u001b[43m)\u001b[49m\u001b[38;5;241m.\u001b[39malias(\u001b[38;5;124m\"\u001b[39m\u001b[38;5;124mTotalSales\u001b[39m\u001b[38;5;124m\"\u001b[39m)\n",
      "File \u001b[1;32mD:\\anaconda\\lib\\site-packages\\pyspark\\sql\\group.py:49\u001b[0m, in \u001b[0;36mdf_varargs_api.<locals>._api\u001b[1;34m(self, *cols)\u001b[0m\n\u001b[0;32m     47\u001b[0m \u001b[38;5;28;01mdef\u001b[39;00m \u001b[38;5;21m_api\u001b[39m(\u001b[38;5;28mself\u001b[39m: \u001b[38;5;124m\"\u001b[39m\u001b[38;5;124mGroupedData\u001b[39m\u001b[38;5;124m\"\u001b[39m, \u001b[38;5;241m*\u001b[39mcols: \u001b[38;5;28mstr\u001b[39m) \u001b[38;5;241m-\u001b[39m\u001b[38;5;241m>\u001b[39m DataFrame:\n\u001b[0;32m     48\u001b[0m     name \u001b[38;5;241m=\u001b[39m f\u001b[38;5;241m.\u001b[39m\u001b[38;5;18m__name__\u001b[39m\n\u001b[1;32m---> 49\u001b[0m     jdf \u001b[38;5;241m=\u001b[39m \u001b[38;5;28;43mgetattr\u001b[39;49m\u001b[43m(\u001b[49m\u001b[38;5;28;43mself\u001b[39;49m\u001b[38;5;241;43m.\u001b[39;49m\u001b[43m_jgd\u001b[49m\u001b[43m,\u001b[49m\u001b[43m \u001b[49m\u001b[43mname\u001b[49m\u001b[43m)\u001b[49m\u001b[43m(\u001b[49m\u001b[43m_to_seq\u001b[49m\u001b[43m(\u001b[49m\u001b[38;5;28;43mself\u001b[39;49m\u001b[38;5;241;43m.\u001b[39;49m\u001b[43msession\u001b[49m\u001b[38;5;241;43m.\u001b[39;49m\u001b[43m_sc\u001b[49m\u001b[43m,\u001b[49m\u001b[43m \u001b[49m\u001b[43mcols\u001b[49m\u001b[43m)\u001b[49m\u001b[43m)\u001b[49m\n\u001b[0;32m     50\u001b[0m     \u001b[38;5;28;01mreturn\u001b[39;00m DataFrame(jdf, \u001b[38;5;28mself\u001b[39m\u001b[38;5;241m.\u001b[39msession)\n",
      "File \u001b[1;32mD:\\anaconda\\lib\\site-packages\\py4j\\java_gateway.py:1322\u001b[0m, in \u001b[0;36mJavaMember.__call__\u001b[1;34m(self, *args)\u001b[0m\n\u001b[0;32m   1316\u001b[0m command \u001b[38;5;241m=\u001b[39m proto\u001b[38;5;241m.\u001b[39mCALL_COMMAND_NAME \u001b[38;5;241m+\u001b[39m\\\n\u001b[0;32m   1317\u001b[0m     \u001b[38;5;28mself\u001b[39m\u001b[38;5;241m.\u001b[39mcommand_header \u001b[38;5;241m+\u001b[39m\\\n\u001b[0;32m   1318\u001b[0m     args_command \u001b[38;5;241m+\u001b[39m\\\n\u001b[0;32m   1319\u001b[0m     proto\u001b[38;5;241m.\u001b[39mEND_COMMAND_PART\n\u001b[0;32m   1321\u001b[0m answer \u001b[38;5;241m=\u001b[39m \u001b[38;5;28mself\u001b[39m\u001b[38;5;241m.\u001b[39mgateway_client\u001b[38;5;241m.\u001b[39msend_command(command)\n\u001b[1;32m-> 1322\u001b[0m return_value \u001b[38;5;241m=\u001b[39m \u001b[43mget_return_value\u001b[49m\u001b[43m(\u001b[49m\n\u001b[0;32m   1323\u001b[0m \u001b[43m    \u001b[49m\u001b[43manswer\u001b[49m\u001b[43m,\u001b[49m\u001b[43m \u001b[49m\u001b[38;5;28;43mself\u001b[39;49m\u001b[38;5;241;43m.\u001b[39;49m\u001b[43mgateway_client\u001b[49m\u001b[43m,\u001b[49m\u001b[43m \u001b[49m\u001b[38;5;28;43mself\u001b[39;49m\u001b[38;5;241;43m.\u001b[39;49m\u001b[43mtarget_id\u001b[49m\u001b[43m,\u001b[49m\u001b[43m \u001b[49m\u001b[38;5;28;43mself\u001b[39;49m\u001b[38;5;241;43m.\u001b[39;49m\u001b[43mname\u001b[49m\u001b[43m)\u001b[49m\n\u001b[0;32m   1325\u001b[0m \u001b[38;5;28;01mfor\u001b[39;00m temp_arg \u001b[38;5;129;01min\u001b[39;00m temp_args:\n\u001b[0;32m   1326\u001b[0m     \u001b[38;5;28;01mif\u001b[39;00m \u001b[38;5;28mhasattr\u001b[39m(temp_arg, \u001b[38;5;124m\"\u001b[39m\u001b[38;5;124m_detach\u001b[39m\u001b[38;5;124m\"\u001b[39m):\n",
      "File \u001b[1;32mD:\\anaconda\\lib\\site-packages\\pyspark\\errors\\exceptions\\captured.py:185\u001b[0m, in \u001b[0;36mcapture_sql_exception.<locals>.deco\u001b[1;34m(*a, **kw)\u001b[0m\n\u001b[0;32m    181\u001b[0m converted \u001b[38;5;241m=\u001b[39m convert_exception(e\u001b[38;5;241m.\u001b[39mjava_exception)\n\u001b[0;32m    182\u001b[0m \u001b[38;5;28;01mif\u001b[39;00m \u001b[38;5;129;01mnot\u001b[39;00m \u001b[38;5;28misinstance\u001b[39m(converted, UnknownException):\n\u001b[0;32m    183\u001b[0m     \u001b[38;5;66;03m# Hide where the exception came from that shows a non-Pythonic\u001b[39;00m\n\u001b[0;32m    184\u001b[0m     \u001b[38;5;66;03m# JVM exception message.\u001b[39;00m\n\u001b[1;32m--> 185\u001b[0m     \u001b[38;5;28;01mraise\u001b[39;00m converted \u001b[38;5;28;01mfrom\u001b[39;00m \u001b[38;5;28;01mNone\u001b[39;00m\n\u001b[0;32m    186\u001b[0m \u001b[38;5;28;01melse\u001b[39;00m:\n\u001b[0;32m    187\u001b[0m     \u001b[38;5;28;01mraise\u001b[39;00m\n",
      "\u001b[1;31mAnalysisException\u001b[0m: \"Sales\" is not a numeric column. Aggregation function can only be applied on a numeric column."
     ]
    }
   ],
   "source": [
    "totalsaleTerritory = df1.groupBy(\"saleterritory\").sum('Sales').alias(\"TotalSales\")"
   ]
  },
  {
   "cell_type": "code",
   "execution_count": 75,
   "id": "7c33fdc8",
   "metadata": {},
   "outputs": [
    {
     "name": "stdout",
     "output_type": "stream",
     "text": [
      "+--------------+--------------------+\n",
      "| saleterritory|          TotalSales|\n",
      "+--------------+--------------------+\n",
      "|       Germany|  2021095.2576909985|\n",
      "|        France|   4607537.932666985|\n",
      "|     Northwest|1.2435075996397952E7|\n",
      "|     Southeast|   7867416.222559907|\n",
      "|       Central|   7906008.176275973|\n",
      "|        Canada|1.4377925592779167E7|\n",
      "|     Southwest|1.8466458788631964E7|\n",
      "|United Kingdom|   4279008.824590983|\n",
      "|     Northeast|   6932842.012822982|\n",
      "|     Australia|   1594335.374912995|\n",
      "+--------------+--------------------+\n",
      "\n"
     ]
    }
   ],
   "source": [
    "totalsaleTerritory.show()"
   ]
  },
  {
   "cell_type": "code",
   "execution_count": null,
   "id": "cee75a9c",
   "metadata": {},
   "outputs": [],
   "source": []
  }
 ],
 "metadata": {
  "kernelspec": {
   "display_name": "Python 3 (ipykernel)",
   "language": "python",
   "name": "python3"
  },
  "language_info": {
   "codemirror_mode": {
    "name": "ipython",
    "version": 3
   },
   "file_extension": ".py",
   "mimetype": "text/x-python",
   "name": "python",
   "nbconvert_exporter": "python",
   "pygments_lexer": "ipython3",
   "version": "3.9.12"
  }
 },
 "nbformat": 4,
 "nbformat_minor": 5
}
